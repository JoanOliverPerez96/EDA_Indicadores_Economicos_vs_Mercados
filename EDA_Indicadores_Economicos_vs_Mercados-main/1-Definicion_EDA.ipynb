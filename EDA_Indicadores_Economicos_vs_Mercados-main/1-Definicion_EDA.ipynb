{
 "cells": [
  {
   "cell_type": "markdown",
   "metadata": {},
   "source": [
    "![imagen](./img/ejercicios.png)"
   ]
  },
  {
   "cell_type": "markdown",
   "metadata": {},
   "source": [
    "# INFORMACIÓN DEL PROYECTO"
   ]
  },
  {
   "cell_type": "markdown",
   "metadata": {},
   "source": [
    "### TÍTULO"
   ]
  },
  {
   "cell_type": "code",
   "execution_count": null,
   "metadata": {},
   "outputs": [],
   "source": [
    "#Escribe el título del proyecto en Markdown"
   ]
  },
  {
   "attachments": {},
   "cell_type": "markdown",
   "metadata": {},
   "source": [
    "#### LOS EFECTOS DE LOS PRINCIPALES INDICADORES ECONÓMICOS EN LOS MERCADOS BURSÁTILES DE ESTADOS UNIDOS"
   ]
  },
  {
   "cell_type": "markdown",
   "metadata": {},
   "source": [
    "### TEMA"
   ]
  },
  {
   "cell_type": "code",
   "execution_count": null,
   "metadata": {},
   "outputs": [],
   "source": [
    "# Describe brevemente el tema del proyecto en Markdown"
   ]
  },
  {
   "attachments": {},
   "cell_type": "markdown",
   "metadata": {},
   "source": [
    "Este EDA trata de analizar la interactuación histórica entre el comportamiento de varios de los principales indicadores económicos y los mercados bursátiles en los Estados Unidos para encontrar posibles correlaciones y tendencias de mercado."
   ]
  },
  {
   "cell_type": "markdown",
   "metadata": {},
   "source": [
    "### HIPÓTESIS"
   ]
  },
  {
   "cell_type": "markdown",
   "metadata": {},
   "source": [
    "Define aquí lo que será la hipótesis de tu proyecto.\n",
    "Puede que tengas más de una, pero tu proyecto lo harás teniendo una principal hipótesis."
   ]
  },
  {
   "cell_type": "code",
   "execution_count": null,
   "metadata": {},
   "outputs": [],
   "source": [
    "# Escribe tu hipótesis principal en Markdown"
   ]
  },
  {
   "attachments": {},
   "cell_type": "markdown",
   "metadata": {},
   "source": [
    "- Hay una correlación extremadamente negativa entre el comportamiento de los tipos de interés y la bolsa en los Estados Unidos"
   ]
  },
  {
   "cell_type": "code",
   "execution_count": null,
   "metadata": {},
   "outputs": [],
   "source": [
    "# Escribe más hipótesis si las hubiera en Markdown"
   ]
  },
  {
   "attachments": {},
   "cell_type": "markdown",
   "metadata": {},
   "source": [
    "- Cuando los tipos de interés a largo plazo bajan en comparación con los del corto plazo, es muy probable que se aproxime una crisis bursátil.\n",
    "- Una elevada inflación suele causar bajadas en los mercados bursátiles.\n",
    "- Hay una correlación negativa entre el USD (Dólar) y los mercados bursátiles de USA.\n",
    "- Los movimientos en el PIB de USA (GDP) y el mercado bursátil son correlacionados.\n",
    "- El desempleo y el mercado de valores tienen una correlación negativa.\n",
    "- Un elevado desempleo suele causar una subida en los tipos de interés; lo que, a su vez, causa la subida de los mercados."
   ]
  },
  {
   "cell_type": "markdown",
   "metadata": {},
   "source": [
    "## OBTENCIÓN DE LOS DATOS"
   ]
  },
  {
   "cell_type": "markdown",
   "metadata": {},
   "source": [
    "### DATASETS Y FUENTES ALTERNATIVAS DE DATOS"
   ]
  },
  {
   "cell_type": "markdown",
   "metadata": {},
   "source": [
    "Incluye aquí una breve descripción del dataset o datasets de los que partirás para poder evaluar tu hipótesis. <br>\n",
    "También incluye el origen de estos datos y su fuente."
   ]
  },
  {
   "cell_type": "code",
   "execution_count": null,
   "metadata": {},
   "outputs": [],
   "source": [
    "# describe la fuente de tus datos e incluye los links en Markdown"
   ]
  },
  {
   "attachments": {},
   "cell_type": "markdown",
   "metadata": {},
   "source": [
    "La fuente principal de mis datos es la [FRED Economic Data de la Fed de St. Louis](https://fred.stlouisfed.org/). Esta es una página web proporcionada por el banco central de USA que ofrece una API gratuita para la extracción de datos de muchos indicadores económicos y mercantiles.\n",
    "De ahi extraigo lo siguiente:\n",
    "- Los datos sobre los tipos de interés con diferentes rangos de duración (largo y corto plazo)\n",
    "- Los datos sobre el desempleo\n",
    "- Los datos sobre el USD\n",
    "- Los datos sobre el [GDP](https://fred.stlouisfed.org/series/GDP)\n",
    "- Los datos sobre la inflación\n",
    "\n",
    "Además, para extraer los datos del mercado bursátil, utilizo otra API de !Yahoo Finanzas. [Aquí hay un ejemplo de uno de los índices bursátiles que extraigo a través de esta API](https://finance.yahoo.com/quote/SPY?p=SPY&.tsrc=fin-srch)\n"
   ]
  },
  {
   "cell_type": "markdown",
   "metadata": {},
   "source": [
    "Muestra mediante un head() los principales datasets con los que vas a trabajar"
   ]
  },
  {
   "attachments": {},
   "cell_type": "markdown",
   "metadata": {},
   "source": []
  },
  {
   "cell_type": "code",
   "execution_count": 4,
   "metadata": {},
   "outputs": [
    {
     "data": {
      "text/html": [
       "<div>\n",
       "<style scoped>\n",
       "    .dataframe tbody tr th:only-of-type {\n",
       "        vertical-align: middle;\n",
       "    }\n",
       "\n",
       "    .dataframe tbody tr th {\n",
       "        vertical-align: top;\n",
       "    }\n",
       "\n",
       "    .dataframe thead th {\n",
       "        text-align: right;\n",
       "    }\n",
       "</style>\n",
       "<table border=\"1\" class=\"dataframe\">\n",
       "  <thead>\n",
       "    <tr style=\"text-align: right;\">\n",
       "      <th></th>\n",
       "      <th>Unnamed: 0</th>\n",
       "      <th>10-Year Treasury Yield</th>\n",
       "      <th>2-Year Treasury Yield</th>\n",
       "      <th>Federal Funds Effective Rate</th>\n",
       "      <th>1-Month Treasury Yield</th>\n",
       "      <th>3-Month Treasury Yield</th>\n",
       "      <th>5-Year Treasury Yield</th>\n",
       "      <th>20-Year Treasury Yield</th>\n",
       "      <th>30-Year Treasury Yield</th>\n",
       "      <th>15-Year Mortgage Rate</th>\n",
       "      <th>...</th>\n",
       "      <th>Government Debt</th>\n",
       "      <th>Government Debt to GDP</th>\n",
       "      <th>Fed Total Assets</th>\n",
       "      <th>Exports</th>\n",
       "      <th>Imports</th>\n",
       "      <th>Trade Balance</th>\n",
       "      <th>Current Account</th>\n",
       "      <th>Current Account to GDP</th>\n",
       "      <th>Consumer Sentiment</th>\n",
       "      <th>US Dollar Index</th>\n",
       "    </tr>\n",
       "  </thead>\n",
       "  <tbody>\n",
       "    <tr>\n",
       "      <th>0</th>\n",
       "      <td>2000-01-03</td>\n",
       "      <td>6.58</td>\n",
       "      <td>6.38</td>\n",
       "      <td>NaN</td>\n",
       "      <td>NaN</td>\n",
       "      <td>5.48</td>\n",
       "      <td>6.50</td>\n",
       "      <td>6.94</td>\n",
       "      <td>6.61</td>\n",
       "      <td>NaN</td>\n",
       "      <td>...</td>\n",
       "      <td>NaN</td>\n",
       "      <td>NaN</td>\n",
       "      <td>NaN</td>\n",
       "      <td>NaN</td>\n",
       "      <td>NaN</td>\n",
       "      <td>NaN</td>\n",
       "      <td>NaN</td>\n",
       "      <td>NaN</td>\n",
       "      <td>NaN</td>\n",
       "      <td>NaN</td>\n",
       "    </tr>\n",
       "    <tr>\n",
       "      <th>1</th>\n",
       "      <td>2000-01-04</td>\n",
       "      <td>6.49</td>\n",
       "      <td>6.30</td>\n",
       "      <td>NaN</td>\n",
       "      <td>NaN</td>\n",
       "      <td>5.43</td>\n",
       "      <td>6.40</td>\n",
       "      <td>6.84</td>\n",
       "      <td>6.53</td>\n",
       "      <td>NaN</td>\n",
       "      <td>...</td>\n",
       "      <td>NaN</td>\n",
       "      <td>NaN</td>\n",
       "      <td>NaN</td>\n",
       "      <td>NaN</td>\n",
       "      <td>NaN</td>\n",
       "      <td>NaN</td>\n",
       "      <td>NaN</td>\n",
       "      <td>NaN</td>\n",
       "      <td>NaN</td>\n",
       "      <td>NaN</td>\n",
       "    </tr>\n",
       "    <tr>\n",
       "      <th>2</th>\n",
       "      <td>2000-01-05</td>\n",
       "      <td>6.62</td>\n",
       "      <td>6.38</td>\n",
       "      <td>NaN</td>\n",
       "      <td>NaN</td>\n",
       "      <td>5.44</td>\n",
       "      <td>6.51</td>\n",
       "      <td>6.95</td>\n",
       "      <td>6.64</td>\n",
       "      <td>NaN</td>\n",
       "      <td>...</td>\n",
       "      <td>NaN</td>\n",
       "      <td>NaN</td>\n",
       "      <td>NaN</td>\n",
       "      <td>NaN</td>\n",
       "      <td>NaN</td>\n",
       "      <td>NaN</td>\n",
       "      <td>NaN</td>\n",
       "      <td>NaN</td>\n",
       "      <td>NaN</td>\n",
       "      <td>NaN</td>\n",
       "    </tr>\n",
       "    <tr>\n",
       "      <th>3</th>\n",
       "      <td>2000-01-06</td>\n",
       "      <td>6.57</td>\n",
       "      <td>6.35</td>\n",
       "      <td>NaN</td>\n",
       "      <td>NaN</td>\n",
       "      <td>5.41</td>\n",
       "      <td>6.46</td>\n",
       "      <td>6.86</td>\n",
       "      <td>6.58</td>\n",
       "      <td>NaN</td>\n",
       "      <td>...</td>\n",
       "      <td>NaN</td>\n",
       "      <td>NaN</td>\n",
       "      <td>NaN</td>\n",
       "      <td>NaN</td>\n",
       "      <td>NaN</td>\n",
       "      <td>NaN</td>\n",
       "      <td>NaN</td>\n",
       "      <td>NaN</td>\n",
       "      <td>NaN</td>\n",
       "      <td>NaN</td>\n",
       "    </tr>\n",
       "    <tr>\n",
       "      <th>4</th>\n",
       "      <td>2000-01-07</td>\n",
       "      <td>6.52</td>\n",
       "      <td>6.31</td>\n",
       "      <td>NaN</td>\n",
       "      <td>NaN</td>\n",
       "      <td>5.38</td>\n",
       "      <td>6.42</td>\n",
       "      <td>6.82</td>\n",
       "      <td>6.55</td>\n",
       "      <td>7.73</td>\n",
       "      <td>...</td>\n",
       "      <td>NaN</td>\n",
       "      <td>NaN</td>\n",
       "      <td>NaN</td>\n",
       "      <td>NaN</td>\n",
       "      <td>NaN</td>\n",
       "      <td>NaN</td>\n",
       "      <td>NaN</td>\n",
       "      <td>NaN</td>\n",
       "      <td>NaN</td>\n",
       "      <td>NaN</td>\n",
       "    </tr>\n",
       "  </tbody>\n",
       "</table>\n",
       "<p>5 rows × 35 columns</p>\n",
       "</div>"
      ],
      "text/plain": [
       "   Unnamed: 0  10-Year Treasury Yield  2-Year Treasury Yield  \\\n",
       "0  2000-01-03                    6.58                   6.38   \n",
       "1  2000-01-04                    6.49                   6.30   \n",
       "2  2000-01-05                    6.62                   6.38   \n",
       "3  2000-01-06                    6.57                   6.35   \n",
       "4  2000-01-07                    6.52                   6.31   \n",
       "\n",
       "   Federal Funds Effective Rate  1-Month Treasury Yield  \\\n",
       "0                           NaN                     NaN   \n",
       "1                           NaN                     NaN   \n",
       "2                           NaN                     NaN   \n",
       "3                           NaN                     NaN   \n",
       "4                           NaN                     NaN   \n",
       "\n",
       "   3-Month Treasury Yield  5-Year Treasury Yield  20-Year Treasury Yield  \\\n",
       "0                    5.48                   6.50                    6.94   \n",
       "1                    5.43                   6.40                    6.84   \n",
       "2                    5.44                   6.51                    6.95   \n",
       "3                    5.41                   6.46                    6.86   \n",
       "4                    5.38                   6.42                    6.82   \n",
       "\n",
       "   30-Year Treasury Yield  15-Year Mortgage Rate  ...  Government Debt  \\\n",
       "0                    6.61                    NaN  ...              NaN   \n",
       "1                    6.53                    NaN  ...              NaN   \n",
       "2                    6.64                    NaN  ...              NaN   \n",
       "3                    6.58                    NaN  ...              NaN   \n",
       "4                    6.55                   7.73  ...              NaN   \n",
       "\n",
       "   Government Debt to GDP  Fed Total Assets  Exports  Imports  Trade Balance  \\\n",
       "0                     NaN               NaN      NaN      NaN            NaN   \n",
       "1                     NaN               NaN      NaN      NaN            NaN   \n",
       "2                     NaN               NaN      NaN      NaN            NaN   \n",
       "3                     NaN               NaN      NaN      NaN            NaN   \n",
       "4                     NaN               NaN      NaN      NaN            NaN   \n",
       "\n",
       "   Current Account  Current Account to GDP  Consumer Sentiment  \\\n",
       "0              NaN                     NaN                 NaN   \n",
       "1              NaN                     NaN                 NaN   \n",
       "2              NaN                     NaN                 NaN   \n",
       "3              NaN                     NaN                 NaN   \n",
       "4              NaN                     NaN                 NaN   \n",
       "\n",
       "   US Dollar Index  \n",
       "0              NaN  \n",
       "1              NaN  \n",
       "2              NaN  \n",
       "3              NaN  \n",
       "4              NaN  \n",
       "\n",
       "[5 rows x 35 columns]"
      ]
     },
     "execution_count": 4,
     "metadata": {},
     "output_type": "execute_result"
    }
   ],
   "source": [
    "# Primer dataset\n",
    "\n",
    "# Para extraer los datos desde la API de FRED, \n",
    "# utilizo un bucle en el que hago la consulta a la FRED y \n",
    "# añado un indicador a una DataFrame global que contendrá todos los indicadores que utilizaré en el EDA.\n",
    "\n",
    "# La extracción que utilizaré empieza en 1962 y va hasta el dia de hoy. \n",
    "# Algunos de los indicadores aparecen como NaN debido a que tienen otras franjas temporales, mensuales, anuales, trimestrales, etc.\n",
    "# Esto será tratado en el EDA.\n",
    "\n",
    "import pandas as pd\n",
    "econ_data = pd.read_csv(r\"C:\\Users\\Joan Oliver\\Documents\\Python Scripts\\Economic Data Analysis\\Economic_Data_Demo.csv\")\n",
    "econ_data.head()"
   ]
  },
  {
   "cell_type": "code",
   "execution_count": 5,
   "metadata": {},
   "outputs": [
    {
     "data": {
      "text/html": [
       "<div>\n",
       "<style scoped>\n",
       "    .dataframe tbody tr th:only-of-type {\n",
       "        vertical-align: middle;\n",
       "    }\n",
       "\n",
       "    .dataframe tbody tr th {\n",
       "        vertical-align: top;\n",
       "    }\n",
       "\n",
       "    .dataframe thead th {\n",
       "        text-align: right;\n",
       "    }\n",
       "</style>\n",
       "<table border=\"1\" class=\"dataframe\">\n",
       "  <thead>\n",
       "    <tr style=\"text-align: right;\">\n",
       "      <th></th>\n",
       "      <th>Date</th>\n",
       "      <th>GDX</th>\n",
       "      <th>SPY</th>\n",
       "      <th>VNQ</th>\n",
       "      <th>XLB</th>\n",
       "      <th>XLE</th>\n",
       "      <th>XLF</th>\n",
       "      <th>XLI</th>\n",
       "      <th>XLK</th>\n",
       "      <th>XLP</th>\n",
       "      <th>XLU</th>\n",
       "      <th>XLV</th>\n",
       "      <th>XLY</th>\n",
       "    </tr>\n",
       "  </thead>\n",
       "  <tbody>\n",
       "    <tr>\n",
       "      <th>0</th>\n",
       "      <td>2003-04-11 00:00:00-04:00</td>\n",
       "      <td>NaN</td>\n",
       "      <td>NaN</td>\n",
       "      <td>NaN</td>\n",
       "      <td>NaN</td>\n",
       "      <td>NaN</td>\n",
       "      <td>NaN</td>\n",
       "      <td>NaN</td>\n",
       "      <td>NaN</td>\n",
       "      <td>NaN</td>\n",
       "      <td>NaN</td>\n",
       "      <td>NaN</td>\n",
       "      <td>NaN</td>\n",
       "    </tr>\n",
       "    <tr>\n",
       "      <th>1</th>\n",
       "      <td>2003-04-14 00:00:00-04:00</td>\n",
       "      <td>NaN</td>\n",
       "      <td>0.020654</td>\n",
       "      <td>NaN</td>\n",
       "      <td>0.019882</td>\n",
       "      <td>0.004975</td>\n",
       "      <td>0.020063</td>\n",
       "      <td>0.017051</td>\n",
       "      <td>0.024289</td>\n",
       "      <td>0.017442</td>\n",
       "      <td>0.012875</td>\n",
       "      <td>0.016430</td>\n",
       "      <td>0.025609</td>\n",
       "    </tr>\n",
       "    <tr>\n",
       "      <th>2</th>\n",
       "      <td>2003-04-15 00:00:00-04:00</td>\n",
       "      <td>NaN</td>\n",
       "      <td>0.029985</td>\n",
       "      <td>NaN</td>\n",
       "      <td>0.037269</td>\n",
       "      <td>0.002274</td>\n",
       "      <td>0.037051</td>\n",
       "      <td>0.025434</td>\n",
       "      <td>0.026321</td>\n",
       "      <td>0.021078</td>\n",
       "      <td>0.025587</td>\n",
       "      <td>0.010185</td>\n",
       "      <td>0.032977</td>\n",
       "    </tr>\n",
       "    <tr>\n",
       "      <th>3</th>\n",
       "      <td>2003-04-16 00:00:00-04:00</td>\n",
       "      <td>NaN</td>\n",
       "      <td>0.012943</td>\n",
       "      <td>NaN</td>\n",
       "      <td>0.023804</td>\n",
       "      <td>-0.011264</td>\n",
       "      <td>0.023424</td>\n",
       "      <td>0.011742</td>\n",
       "      <td>0.033759</td>\n",
       "      <td>-0.007389</td>\n",
       "      <td>0.024541</td>\n",
       "      <td>-0.013475</td>\n",
       "      <td>0.019161</td>\n",
       "    </tr>\n",
       "    <tr>\n",
       "      <th>4</th>\n",
       "      <td>2003-04-17 00:00:00-04:00</td>\n",
       "      <td>NaN</td>\n",
       "      <td>0.027787</td>\n",
       "      <td>NaN</td>\n",
       "      <td>0.037977</td>\n",
       "      <td>0.008865</td>\n",
       "      <td>0.041250</td>\n",
       "      <td>0.028102</td>\n",
       "      <td>0.054564</td>\n",
       "      <td>0.010192</td>\n",
       "      <td>0.026636</td>\n",
       "      <td>-0.003631</td>\n",
       "      <td>0.038115</td>\n",
       "    </tr>\n",
       "  </tbody>\n",
       "</table>\n",
       "</div>"
      ],
      "text/plain": [
       "                        Date  GDX       SPY  VNQ       XLB       XLE  \\\n",
       "0  2003-04-11 00:00:00-04:00  NaN       NaN  NaN       NaN       NaN   \n",
       "1  2003-04-14 00:00:00-04:00  NaN  0.020654  NaN  0.019882  0.004975   \n",
       "2  2003-04-15 00:00:00-04:00  NaN  0.029985  NaN  0.037269  0.002274   \n",
       "3  2003-04-16 00:00:00-04:00  NaN  0.012943  NaN  0.023804 -0.011264   \n",
       "4  2003-04-17 00:00:00-04:00  NaN  0.027787  NaN  0.037977  0.008865   \n",
       "\n",
       "        XLF       XLI       XLK       XLP       XLU       XLV       XLY  \n",
       "0       NaN       NaN       NaN       NaN       NaN       NaN       NaN  \n",
       "1  0.020063  0.017051  0.024289  0.017442  0.012875  0.016430  0.025609  \n",
       "2  0.037051  0.025434  0.026321  0.021078  0.025587  0.010185  0.032977  \n",
       "3  0.023424  0.011742  0.033759 -0.007389  0.024541 -0.013475  0.019161  \n",
       "4  0.041250  0.028102  0.054564  0.010192  0.026636 -0.003631  0.038115  "
      ]
     },
     "execution_count": 5,
     "metadata": {},
     "output_type": "execute_result"
    }
   ],
   "source": [
    "# Siguiente dataset...\n",
    "market_rets = pd.read_csv(r\"C:\\Users\\Joan Oliver\\Documents\\Python Scripts\\Economic Data Analysis\\Market_Rets.csv\")\n",
    "market_rets.head()"
   ]
  },
  {
   "cell_type": "code",
   "execution_count": null,
   "metadata": {},
   "outputs": [],
   "source": []
  }
 ],
 "metadata": {
  "interpreter": {
   "hash": "7c77fdb427e7cbc9bc1367dd530fc2b36aacdbbde1ac83c85833b10dfa8b831c"
  },
  "kernelspec": {
   "display_name": "Python 3.7.4 64-bit",
   "language": "python",
   "name": "python3"
  },
  "language_info": {
   "codemirror_mode": {
    "name": "ipython",
    "version": 3
   },
   "file_extension": ".py",
   "mimetype": "text/x-python",
   "name": "python",
   "nbconvert_exporter": "python",
   "pygments_lexer": "ipython3",
   "version": "3.7.4"
  },
  "orig_nbformat": 4
 },
 "nbformat": 4,
 "nbformat_minor": 2
}
