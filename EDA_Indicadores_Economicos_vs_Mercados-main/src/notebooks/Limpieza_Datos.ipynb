{
 "cells": [
  {
   "attachments": {},
   "cell_type": "markdown",
   "metadata": {},
   "source": [
    "### Cargar librerias y establecer variables"
   ]
  },
  {
   "cell_type": "code",
   "execution_count": 58,
   "metadata": {},
   "outputs": [],
   "source": [
    "# Librerias a utilizar en el EDA\n",
    "\n",
    "import pandas as pd\n",
    "import numpy as np\n",
    "import matplotlib.pyplot as plt\n",
    "import plotly.express as px\n",
    "from pandas_datareader import data as pdr\n",
    "import yfinance as yfin\n",
    "import datetime as dt\n",
    "from datetime import datetime"
   ]
  },
  {
   "cell_type": "code",
   "execution_count": 61,
   "metadata": {},
   "outputs": [],
   "source": [
    "# Se utiliza un rango de 50 años para la extraccion de datos económicos\n",
    "timeframe = 365*50\n",
    "today = datetime.today()\n",
    "end = today.strftime(\"%Y-%m-%d\")\n",
    "# start = (today - dt.timedelta(days=timeframe)).strftime(\"%Y-%m-%d\")\n",
    "\n",
    "# Se utiliza un rango de 23 años para la extraccion de datos bursátiles\n",
    "stock_timeframe = 365*23\n",
    "stock_start = (today - dt.timedelta(days=stock_timeframe)).strftime(\"%Y-%m-%d\")\n",
    "stock_end = end"
   ]
  },
  {
   "attachments": {},
   "cell_type": "markdown",
   "metadata": {},
   "source": [
    "### Cargando los Datos de 'raw'"
   ]
  },
  {
   "cell_type": "code",
   "execution_count": 116,
   "metadata": {},
   "outputs": [],
   "source": [
    "# Extraer datos de la carpeta 'raw'\n",
    "df_indicators = pd.read_csv(r'C:\\Users\\Joan Oliver\\TheBridge-DataScienceBootcamp\\EDA\\src\\data\\raw\\indicators_df.csv',index_col=0, header=0)\n",
    "df_markets = pd.read_csv(r'C:\\Users\\Joan Oliver\\TheBridge-DataScienceBootcamp\\EDA\\src\\data\\raw\\market_hist.csv',index_col=0, header=0)"
   ]
  },
  {
   "attachments": {},
   "cell_type": "markdown",
   "metadata": {},
   "source": [
    "### Limpiar Datos de Mercados Bursátiles"
   ]
  },
  {
   "cell_type": "code",
   "execution_count": 173,
   "metadata": {},
   "outputs": [],
   "source": [
    "# Filtrar los datos de mercado de los primeros 23 años\n",
    "df_markets = df_markets.loc[stock_start:stock_end]\n",
    "\n",
    "# Crear DataFrame de rendimiento diario de mercados\n",
    "df_market_rets = df_markets.pct_change().fillna(0)\n",
    "\n",
    "# Crear DataFrame de rendimiento acumulado de mercados\n",
    "df_market_cum = df_market_rets.cumsum().fillna(0)"
   ]
  },
  {
   "cell_type": "code",
   "execution_count": 174,
   "metadata": {},
   "outputs": [],
   "source": [
    "# Guardar tablas de mercados\n",
    "df_markets.to_csv(r\"C:\\Users\\Joan Oliver\\TheBridge-DataScienceBootcamp\\EDA\\src\\data\\processed\\market_hist.csv\")\n",
    "df_market_rets.to_csv(r\"C:\\Users\\Joan Oliver\\TheBridge-DataScienceBootcamp\\EDA\\src\\data\\processed\\market_rets.csv\")\n",
    "df_market_cum.to_csv(r\"C:\\Users\\Joan Oliver\\TheBridge-DataScienceBootcamp\\EDA\\src\\data\\processed\\market_cum.csv\")"
   ]
  },
  {
   "attachments": {},
   "cell_type": "markdown",
   "metadata": {},
   "source": [
    "### Limpiar Datos Económicos"
   ]
  },
  {
   "cell_type": "code",
   "execution_count": 129,
   "metadata": {},
   "outputs": [],
   "source": [
    "df_indicators = df_indicators.loc[stock_start:stock_end]"
   ]
  },
  {
   "cell_type": "code",
   "execution_count": 130,
   "metadata": {},
   "outputs": [],
   "source": [
    "# Rellenar los datos vacios con el dato anterior\n",
    "df_indicators_limpio = df_indicators.fillna(method='ffill')\n",
    "\n",
    "# Rellenar los siguientes datos vacios con el ultimo dato\n",
    "df_indicators_limpio.fillna(method='bfill', inplace=True) "
   ]
  },
  {
   "cell_type": "code",
   "execution_count": 131,
   "metadata": {},
   "outputs": [
    {
     "name": "stdout",
     "output_type": "stream",
     "text": [
      "<class 'pandas.core.frame.DataFrame'>\n",
      "Index: 5996 entries, 2000-04-17 to 2023-04-10\n",
      "Data columns (total 29 columns):\n",
      " #   Column                        Non-Null Count  Dtype  \n",
      "---  ------                        --------------  -----  \n",
      " 0   10-Year Treasury Yield        5996 non-null   float64\n",
      " 1   2-Year Treasury Yield         5996 non-null   float64\n",
      " 2   Federal Funds Effective Rate  5996 non-null   float64\n",
      " 3   1-Month Treasury Yield        5996 non-null   float64\n",
      " 4   3-Month Treasury Yield        5996 non-null   float64\n",
      " 5   5-Year Treasury Yield         5996 non-null   float64\n",
      " 6   20-Year Treasury Yield        5996 non-null   float64\n",
      " 7   30-Year Treasury Yield        5996 non-null   float64\n",
      " 8   15-Year Mortgage Rate         5996 non-null   float64\n",
      " 9   30-Year Mortgage Rate         5996 non-null   float64\n",
      " 10  Unemployment Rate             5996 non-null   float64\n",
      " 11  GDP                           5996 non-null   float64\n",
      " 12  GDP Growth                    5996 non-null   float64\n",
      " 13  Real GDP                      5996 non-null   float64\n",
      " 14  RGDP Growth                   5996 non-null   float64\n",
      " 15  CPI                           5996 non-null   float64\n",
      " 16  Inflation rate                5996 non-null   float64\n",
      " 17  PPI                           5996 non-null   float64\n",
      " 18  PPI rate                      5996 non-null   float64\n",
      " 19  Government Debt               5996 non-null   float64\n",
      " 20  Government Debt to GDP        5996 non-null   float64\n",
      " 21  US Dollar Index               5996 non-null   float64\n",
      " 22  3m5y                          5996 non-null   float64\n",
      " 23  3m10y                         5996 non-null   float64\n",
      " 24  2y10y                         5996 non-null   float64\n",
      " 25  2y20y                         5996 non-null   float64\n",
      " 26  5y10y                         5996 non-null   float64\n",
      " 27  10y30y                        5996 non-null   float64\n",
      " 28  10yTrea30yFRM                 5996 non-null   float64\n",
      "dtypes: float64(29)\n",
      "memory usage: 1.4+ MB\n"
     ]
    }
   ],
   "source": [
    "df_indicators_limpio.info()"
   ]
  },
  {
   "cell_type": "code",
   "execution_count": 172,
   "metadata": {},
   "outputs": [],
   "source": [
    "# Listar los indicadores por su tipo\n",
    "irates = [\"1-Month Treasury Yield\",\n",
    "          \"3-Month Treasury Yield\",\n",
    "          \"2-Year Treasury Yield\",\n",
    "          \"5-Year Treasury Yield\",\n",
    "          \"10-Year Treasury Yield\",\n",
    "          \"20-Year Treasury Yield\",\n",
    "          \"30-Year Treasury Yield\",\n",
    "          \"15-Year Mortgage Rate\",\n",
    "          \"30-Year Mortgage Rate\"]\n",
    "irate_yld = [\"3m5y\",\n",
    "             \"3m10y\",\n",
    "             \"2y10y\",\n",
    "             \"2y20y\",\n",
    "             \"5y10y\",\n",
    "             \"10y30y\",\n",
    "             \"10yTrea30yFRM\"]\n",
    "inflation = [\"CPI\",\n",
    "             \"Inflation rate\",\n",
    "             \"PPI\",\n",
    "             \"PPI rate\"] \n",
    "usd = [\"US Dollar Index\"] \n",
    "gdp = [\"GDP\",\n",
    "       \"GDP Growth\",\n",
    "       \"Real GDP\",\n",
    "       \"RGDP Growth\",]\n",
    "unemployment = [\"Unemployment Rate\"]\n",
    "\n",
    "# Agrupar las listas de indicadores en un diccionario\n",
    "indicator_dict = {\"interest_rates\":irates,\n",
    "                  \"interest_rate_yld\":irate_yld,\n",
    "                  \"inflation\":inflation,\n",
    "                  \"usd\":usd,\n",
    "                  \"gdp\":gdp,\n",
    "                  \"unemployment\":unemployment}\n",
    "\n",
    "# Guardar las tablas de indicadores en csv\n",
    "for ind_name, ind_list in indicator_dict.items():\n",
    "    df_indicators[ind_list].dropna().to_csv(r\"C:\\Users\\Joan Oliver\\TheBridge-DataScienceBootcamp\\EDA\\src\\data\\processed\\{0}.csv\".format(ind_name))"
   ]
  },
  {
   "cell_type": "code",
   "execution_count": 142,
   "metadata": {},
   "outputs": [],
   "source": [
    "# Crear y guardar tabla de interest_rates.csv\n",
    "\n",
    "irates = [\"1-Month Treasury Yield\",\n",
    "          \"3-Month Treasury Yield\",\n",
    "          \"2-Year Treasury Yield\",\n",
    "          \"5-Year Treasury Yield\",\n",
    "          \"10-Year Treasury Yield\",\n",
    "          \"20-Year Treasury Yield\",\n",
    "          \"30-Year Treasury Yield\",\n",
    "          \"15-Year Mortgage Rate\",\n",
    "          \"30-Year Mortgage Rate\"]\n",
    "df_irates = df_indicators_limpio[irates]\n",
    "\n",
    "df_irates.to_csv(r\"C:\\Users\\Joan Oliver\\TheBridge-DataScienceBootcamp\\EDA\\src\\data\\processed\\interest_rates.csv\")"
   ]
  },
  {
   "cell_type": "code",
   "execution_count": 143,
   "metadata": {},
   "outputs": [],
   "source": [
    "# Crear y guardar tabla de interest_rates_yld.csv\n",
    "irate_yld = [\"3m5y\",\n",
    "             \"3m10y\",\n",
    "             \"2y10y\",\n",
    "             \"2y20y\",\n",
    "             \"5y10y\",\n",
    "             \"10y30y\",\n",
    "             \"10yTrea30yFRM\"]\n",
    "df_irate_yld = df_indicators_limpio[irate_yld]\n",
    "\n",
    "df_irate_yld.to_csv(r\"C:\\Users\\Joan Oliver\\TheBridge-DataScienceBootcamp\\EDA\\src\\data\\processed\\interest_rates_yld.csv\")"
   ]
  },
  {
   "cell_type": "code",
   "execution_count": 145,
   "metadata": {},
   "outputs": [],
   "source": [
    "# Crear y guardar tabla de inflation.csv\n",
    "inflation = [\"CPI\",\n",
    "             \"Inflation rate\",\n",
    "             \"PPI\",\n",
    "             \"PPI rate\"] \n",
    "df_inflation = df_indicators_limpio[inflation]\n",
    "\n",
    "df_inflation.to_csv(r\"C:\\Users\\Joan Oliver\\TheBridge-DataScienceBootcamp\\EDA\\src\\data\\processed\\inflation.csv\")"
   ]
  },
  {
   "cell_type": "code",
   "execution_count": 147,
   "metadata": {},
   "outputs": [],
   "source": [
    "# Crear y guardar tabla de usd.csv\n",
    "usd = [\"US Dollar Index\"] \n",
    "df_usd = df_indicators_limpio[usd]\n",
    "\n",
    "df_usd.to_csv(r\"C:\\Users\\Joan Oliver\\TheBridge-DataScienceBootcamp\\EDA\\src\\data\\processed\\usd.csv\")"
   ]
  },
  {
   "cell_type": "code",
   "execution_count": 149,
   "metadata": {},
   "outputs": [],
   "source": [
    "# Crear y guardar tabla de GDP.csv\n",
    "gdp = [\"GDP\",\n",
    "       \"GDP Growth\",\n",
    "       \"Real GDP\",\n",
    "       \"RGDP Growth\",] \n",
    "df_gdp = df_indicators_limpio[gdp]\n",
    "\n",
    "df_gdp.to_csv(r\"C:\\Users\\Joan Oliver\\TheBridge-DataScienceBootcamp\\EDA\\src\\data\\processed\\gdp.csv\")"
   ]
  },
  {
   "cell_type": "code",
   "execution_count": 162,
   "metadata": {},
   "outputs": [],
   "source": [
    "import seaborn as sns"
   ]
  },
  {
   "cell_type": "code",
   "execution_count": 165,
   "metadata": {},
   "outputs": [
    {
     "data": {
      "text/plain": [
       "count    5996.000000\n",
       "mean        1.952752\n",
       "std         5.412346\n",
       "min       -29.900000\n",
       "25%         0.600000\n",
       "50%         2.400000\n",
       "75%         3.200000\n",
       "max        35.300000\n",
       "Name: RGDP Growth, dtype: float64"
      ]
     },
     "execution_count": 165,
     "metadata": {},
     "output_type": "execute_result"
    }
   ],
   "source": [
    "df_gdp[\"RGDP Growth\"].describe()"
   ]
  },
  {
   "cell_type": "code",
   "execution_count": 170,
   "metadata": {},
   "outputs": [
    {
     "data": {
      "text/plain": [
       "<AxesSubplot:>"
      ]
     },
     "execution_count": 170,
     "metadata": {},
     "output_type": "execute_result"
    },
    {
     "data": {
      "image/png": "[encoded data removed]",
      "text/plain": [
       "<Figure size 640x480 with 2 Axes>"
      ]
     },
     "metadata": {},
     "output_type": "display_data"
    }
   ],
   "source": [
    "df_gdp[\"GDP\"].plot()\n",
    "df_gdp[\"GDP Growth\"].plot(secondary_y=\"GDP Growth\")"
   ]
  },
  {
   "cell_type": "code",
   "execution_count": null,
   "metadata": {},
   "outputs": [],
   "source": []
  }
 ],
 "metadata": {
  "kernelspec": {
   "display_name": "Python 3",
   "language": "python",
   "name": "python3"
  },
  "language_info": {
   "codemirror_mode": {
    "name": "ipython",
    "version": 3
   },
   "file_extension": ".py",
   "mimetype": "text/x-python",
   "name": "python",
   "nbconvert_exporter": "python",
   "pygments_lexer": "ipython3",
   "version": "3.7.4"
  },
  "orig_nbformat": 4
 },
 "nbformat": 4,
 "nbformat_minor": 2
}
