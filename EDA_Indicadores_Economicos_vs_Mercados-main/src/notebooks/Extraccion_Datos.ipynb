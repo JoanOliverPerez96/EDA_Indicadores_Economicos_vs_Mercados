{
 "cells": [
  {
   "attachments": {},
   "cell_type": "markdown",
   "metadata": {},
   "source": [
    "### Importar Librerias"
   ]
  },
  {
   "cell_type": "code",
   "execution_count": 2,
   "metadata": {},
   "outputs": [],
   "source": [
    "# Librerias a utilizar en el EDA\n",
    "\n",
    "import pandas as pd\n",
    "import numpy as np\n",
    "import matplotlib.pyplot as plt\n",
    "import plotly.express as px\n",
    "from pandas_datareader import data as pdr\n",
    "import yfinance as yfin\n",
    "import datetime as dt\n",
    "from datetime import datetime\n",
    "\n",
    "# Librería de la FRED\n",
    "from fredapi import Fred\n",
    "\n",
    "# API Key\n",
    "fred_key = '2e3cf97d1b456831253eda002ce25948'"
   ]
  },
  {
   "attachments": {},
   "cell_type": "markdown",
   "metadata": {},
   "source": [
    "### Asignar Variables Globales"
   ]
  },
  {
   "cell_type": "code",
   "execution_count": 3,
   "metadata": {},
   "outputs": [],
   "source": [
    "# Se utiliza un rango de 50 años para la extraccion de datos económicos\n",
    "timeframe = 365*50\n",
    "today = datetime.today()\n",
    "end = today.strftime(\"%Y-%m-%d\")\n",
    "start = (today - dt.timedelta(days=timeframe)).strftime(\"%Y-%m-%d\")\n",
    "\n",
    "# Se utiliza un rango de 25 años para la extraccion de datos bursátiles\n",
    "stock_timeframe = 365*25\n",
    "stock_start = (today - dt.timedelta(days=stock_timeframe)).strftime(\"%Y-%m-%d\")\n",
    "stock_end = end"
   ]
  },
  {
   "attachments": {},
   "cell_type": "markdown",
   "metadata": {},
   "source": [
    "### Extraccion de Datos"
   ]
  },
  {
   "attachments": {},
   "cell_type": "markdown",
   "metadata": {},
   "source": [
    "#### Extraccion de Datos Economicos de FRED"
   ]
  },
  {
   "cell_type": "code",
   "execution_count": 4,
   "metadata": {},
   "outputs": [],
   "source": [
    "# Crear el objeto FRED a partir de la API Key\n",
    "fred = Fred(api_key=fred_key)"
   ]
  },
  {
   "cell_type": "code",
   "execution_count": 5,
   "metadata": {},
   "outputs": [],
   "source": [
    "# Este diccionario contiene los codigos de series de FRED (key) que se utilizaran para extraer los indicadores (value)\n",
    "fred_series_dict = {\n",
    "    'DGS10': '10-Year Treasury Yield', # 10-Year Treasury Rate\n",
    "    'DGS2': '2-Year Treasury Yield', # 2-Year Treasury Rate\n",
    "    'DFF': 'Federal Funds Effective Rate', # Federal Funds Effective Rate\n",
    "    'DGS1MO': '1-Month Treasury Yield', # 1-Month Treasury Rate\n",
    "    'DGS3MO': '3-Month Treasury Yield', # 3-Month Treasury Rate\n",
    "    'DGS5': '5-Year Treasury Yield', # 5-Year Treasury Rate\n",
    "    'DGS20': '20-Year Treasury Yield', # 20-Year Treasury Rate\n",
    "    'DGS30': '30-Year Treasury Yield', # 30-Year Treasury Rate\n",
    "    'MORTGAGE15US': '15-Year Mortgage Rate', # 15-Year Mortgage Rate\n",
    "    'MORTGAGE30US': '30-Year Mortgage Rate', # 30-Year Mortgage Rate\n",
    "    'UNRATE': 'Unemployment Rate',\n",
    "    'GDP': 'GDP',\n",
    "    'A191RP1Q027SBEA': 'GDP Growth',\n",
    "    'GDPC1': 'Real GDP',\n",
    "    'A191RL1Q225SBEA': 'RGDP Growth',\n",
    "    'CPIAUCSL': 'CPI', # Inflation rate: infrate = pd.DataFrame(CPI.pct_change(12),columns=[\"Inflation Rate\"]) # CPI YoY\n",
    "    'PPIFIS': 'PPI', # PPI rate: ppi = pd.DataFrame(ppi_fd.pct_change(),columns=[\"PPI\"])\n",
    "    'GFDEBTN': 'Government Debt', # Gov Debt / GDP: govdebt_gdp = pd.DataFrame((govdebt*.1/gdp).dropna(),columns=[\"Gov Debt to GDP\"]) # Gov Debt / GDP\n",
    "    'DTWEXBGS': 'US Dollar Index',   \n",
    "}\n",
    "\n",
    "# Este diccionario se utiliza para crear las columnas que contienen calculos\n",
    "series_calc_dict = {\n",
    "    'CPIAUCSL': 'Inflation rate', # Inflation rate: infrate = pd.DataFrame(CPI.pct_change(12),columns=[\"Inflation Rate\"]) # CPI YoY\n",
    "    'PPIFIS': 'PPI rate', # PPI rate: ppi = pd.DataFrame(ppi_fd.pct_change(),columns=[\"PPI\"])\n",
    "    'GFDEBTN': 'Government Debt to GDP', # Gov Debt / GDP: govdebt_gdp = pd.DataFrame((govdebt*.1/gdp).dropna(),columns=[\"Gov Debt to GDP\"]) # Gov Debt / GDP\n",
    "}\n",
    "\n",
    "# Este diccionario contiene los codigos de serie de la FRED para los tipos de interes (pruebas)\n",
    "# int_rates_dict = {\n",
    "#     'DGS1MO': '1-Month Treasury Yield', # 1-Month Treasury Rate\n",
    "#     'DGS3MO': '3-Month Treasury Yield', # 3-Month Treasury Rate\n",
    "#     'DGS2': '2-Year Treasury Yield', # 2-Year Treasury Rate\n",
    "#     'DGS5': '5-Year Treasury Yield', # 5-Year Treasury Rate\n",
    "#     'DGS10': '10-Year Treasury Yield', # 10-Year Treasury Rate\n",
    "#     'DGS20': '20-Year Treasury Yield', # 20-Year Treasury Rate\n",
    "#     'DGS30': '30-Year Treasury Yield' # 30-Year Treasury Rate\n",
    "# }"
   ]
  },
  {
   "cell_type": "code",
   "execution_count": 6,
   "metadata": {},
   "outputs": [
    {
     "name": "stdout",
     "output_type": "stream",
     "text": [
      "Code: DGS10 | Indicator: 10-Year Treasury Yield | # Rows: 15303 | Start Date: 1962-01-02\n",
      "Code: DGS2 | Indicator: 2-Year Treasury Yield | # Rows: 11711 | Start Date: 1962-01-02\n",
      "Code: DFF | Indicator: Federal Funds Effective Rate | # Rows: 15985 | Start Date: 1962-01-02\n",
      "Code: DGS1MO | Indicator: 1-Month Treasury Yield | # Rows: 5425 | Start Date: 1962-01-02\n",
      "Code: DGS3MO | Indicator: 3-Month Treasury Yield | # Rows: 10401 | Start Date: 1962-01-02\n",
      "Code: DGS5 | Indicator: 5-Year Treasury Yield | # Rows: 15303 | Start Date: 1962-01-02\n",
      "Code: DGS20 | Indicator: 20-Year Treasury Yield | # Rows: 13614 | Start Date: 1962-01-02\n",
      "Code: DGS30 | Indicator: 30-Year Treasury Yield | # Rows: 11533 | Start Date: 1962-01-02\n",
      "Code: MORTGAGE15US | Indicator: 15-Year Mortgage Rate | # Rows: 1648 | Start Date: 1962-01-02\n",
      "Code: MORTGAGE30US | Indicator: 30-Year Mortgage Rate | # Rows: 2713 | Start Date: 1962-01-02\n",
      "Code: UNRATE | Indicator: Unemployment Rate | # Rows: 525 | Start Date: 1962-01-02\n",
      "Code: GDP | Indicator: GDP | # Rows: 175 | Start Date: 1962-01-02\n",
      "Code: A191RP1Q027SBEA | Indicator: GDP Growth | # Rows: 175 | Start Date: 1962-01-02\n",
      "Code: GDPC1 | Indicator: Real GDP | # Rows: 175 | Start Date: 1962-01-02\n",
      "Code: A191RL1Q225SBEA | Indicator: RGDP Growth | # Rows: 175 | Start Date: 1962-01-02\n",
      "Code: CPIAUCSL | Indicator: CPI | # Rows: 524 | Start Date: 1962-01-02\n",
      "-> CPIAUCSL - Inflation rate\n",
      "Code: PPIFIS | Indicator: PPI | # Rows: 115 | Start Date: 1962-01-02\n",
      "-> PPIFIS - PPI rate\n",
      "Code: GFDEBTN | Indicator: Government Debt | # Rows: 162 | Start Date: 1962-01-02\n",
      "-> GFDEBTN - Government Debt to GDP\n",
      "Code: DTWEXBGS | Indicator: US Dollar Index | # Rows: 4330 | Start Date: 1962-01-02\n"
     ]
    }
   ],
   "source": [
    "indicators_df = pd.DataFrame() # DataFrame para almacenar los datos extraidos\n",
    "\n",
    "# Acceder al diccionario de indicadores economicos para extraer sus datos (utilizando el objeto 'fred' y la funcion 'get_series') y almacenarlos en un DataFrame\n",
    "for code,indicator in fred_series_dict.items():\n",
    "    indicators_df[indicator] = fred.get_series(code)\n",
    "    # Printamos el resultado de la extraccion de cada indicador con su codigo, indicador, rows y fecha de inicio\n",
    "    print(f'Code: {code} | Indicator: {indicator} | # Rows: {len(indicators_df[indicator].dropna())} | Start Date: {str(indicators_df[indicator].index[0]).split(\" \")[0]}')\n",
    "    \n",
    "    # Realizar los siguientes calculos dependiendo del indicador y añadirlo al DataFrame\n",
    "    if code == 'CES0500000003':\n",
    "        print(f'-> {code} - {series_calc_dict[code]}')\n",
    "        indicators_df[series_calc_dict[code]] = (indicators_df[indicator] - indicators_df[indicator].shift(12))/indicators_df[indicator]*100\n",
    "    elif code == 'CPIAUCSL':\n",
    "        print(f'-> {code} - {series_calc_dict[code]}')\n",
    "        indicators_df[series_calc_dict[code]] = indicators_df[indicator].pct_change()\n",
    "    elif code == 'PPIFIS':\n",
    "        print(f'-> {code} - {series_calc_dict[code]}')\n",
    "        indicators_df[series_calc_dict[code]] = indicators_df[indicator].pct_change()\n",
    "    elif code == 'GFDEBTN':\n",
    "        print(f'-> {code} - {series_calc_dict[code]}')\n",
    "        indicators_df[series_calc_dict[code]] = (indicators_df[indicator] * .1) / indicators_df['GDP']\n",
    "    elif code == 'BOPTIMP':\n",
    "        print(f'-> {code} - {series_calc_dict[code]}')\n",
    "        indicators_df[series_calc_dict[code]] = indicators_df[indicator] - indicators_df['Exports']\n",
    "    elif code == 'IEABC':\n",
    "        print(f'-> {code} - {series_calc_dict[code]}')\n",
    "        indicators_df[series_calc_dict[code]] = indicators_df[indicator] / indicators_df[\"GDP\"]"
   ]
  },
  {
   "cell_type": "code",
   "execution_count": 7,
   "metadata": {},
   "outputs": [],
   "source": [
    "# Crear nuevas columnas para los 'spread' de los tipos de interes (tipos a largo plazo - tipos a cortos plazo)\n",
    "# 3m5y,3m10y, 2y10y, 2y20y, 5y10y, 10y30y, 10yTrea30yFRM\n",
    "\n",
    "indicators_df[\"3m5y\"] =  indicators_df[\"5-Year Treasury Yield\"] - indicators_df[\"3-Month Treasury Yield\"]\n",
    "indicators_df[\"3m10y\"] = indicators_df[\"10-Year Treasury Yield\"] - indicators_df[\"3-Month Treasury Yield\"]\n",
    "indicators_df[\"2y10y\"] = indicators_df[\"10-Year Treasury Yield\"] - indicators_df[\"2-Year Treasury Yield\"]\n",
    "indicators_df[\"2y20y\"] = indicators_df[\"20-Year Treasury Yield\"] - indicators_df[\"2-Year Treasury Yield\"]\n",
    "indicators_df[\"5y10y\"] = indicators_df[\"10-Year Treasury Yield\"] - indicators_df[\"5-Year Treasury Yield\"]\n",
    "indicators_df[\"10y30y\"] = indicators_df[\"30-Year Treasury Yield\"] - indicators_df[\"10-Year Treasury Yield\"]\n",
    "indicators_df[\"10yTrea30yFRM\"] = indicators_df[\"30-Year Mortgage Rate\"] - indicators_df[\"10-Year Treasury Yield\"]"
   ]
  },
  {
   "cell_type": "code",
   "execution_count": 16,
   "metadata": {},
   "outputs": [],
   "source": [
    "# Guardar el DataFrame como un archivo csv\n",
    "indicators_df.to_csv(r\"C:\\Users\\Joan Oliver\\TheBridge-DataScienceBootcamp\\EDA\\src\\data\\raw\\indicators_df.csv\")"
   ]
  },
  {
   "attachments": {},
   "cell_type": "markdown",
   "metadata": {},
   "source": [
    "#### Extraccion de Datos de Mercado de Valores (US Stock Market Data)"
   ]
  },
  {
   "cell_type": "code",
   "execution_count": 34,
   "metadata": {},
   "outputs": [
    {
     "name": "stdout",
     "output_type": "stream",
     "text": [
      "[*********************100%***********************]  14 of 14 completed\n"
     ]
    }
   ],
   "source": [
    "# Permite crear el DataFrame\n",
    "yfin.pdr_override()\n",
    "\n",
    "# Crear la lista de los diferentes mercados de valores y sectores\n",
    "stocks = ['SPY','DIA','^IXIC','XLE','XLF','XLU','XLI','XLK','XLV','XLY','XLP','XLB','IYR','GDX']\n",
    "\n",
    "# Extraer los precios de !Yahoo Finanzas para cada uno de los indices y almacenarlos en el DataFrame 'markets'\n",
    "markets = pdr.get_data_yahoo(stocks,start=start,end=end)\n",
    "\n",
    "# Filtrar el DataFrame quedandonos con la columna de 'Adj Close' y el rango temporal previamente definido\n",
    "market_hist = markets[\"Adj Close\"].loc[stock_start:stock_end]"
   ]
  },
  {
   "cell_type": "code",
   "execution_count": 35,
   "metadata": {},
   "outputs": [],
   "source": [
    "# Guardar el DataFrame como un archivo csv\n",
    "market_hist.to_csv(r\"C:\\Users\\Joan Oliver\\TheBridge-DataScienceBootcamp\\EDA\\src\\data\\raw\\market_hist.csv\")"
   ]
  },
  {
   "cell_type": "code",
   "execution_count": 32,
   "metadata": {},
   "outputs": [
    {
     "name": "stdout",
     "output_type": "stream",
     "text": [
      "<class 'pandas.core.frame.DataFrame'>\n",
      "DatetimeIndex: 15985 entries, 1962-01-02 to 2023-04-10\n",
      "Data columns (total 29 columns):\n",
      " #   Column                        Non-Null Count  Dtype  \n",
      "---  ------                        --------------  -----  \n",
      " 0   10-Year Treasury Yield        15303 non-null  float64\n",
      " 1   2-Year Treasury Yield         11711 non-null  float64\n",
      " 2   Federal Funds Effective Rate  15985 non-null  float64\n",
      " 3   1-Month Treasury Yield        5425 non-null   float64\n",
      " 4   3-Month Treasury Yield        10401 non-null  float64\n",
      " 5   5-Year Treasury Yield         15303 non-null  float64\n",
      " 6   20-Year Treasury Yield        13614 non-null  float64\n",
      " 7   30-Year Treasury Yield        11533 non-null  float64\n",
      " 8   15-Year Mortgage Rate         1648 non-null   float64\n",
      " 9   30-Year Mortgage Rate         2713 non-null   float64\n",
      " 10  Unemployment Rate             525 non-null    float64\n",
      " 11  GDP                           175 non-null    float64\n",
      " 12  GDP Growth                    175 non-null    float64\n",
      " 13  Real GDP                      175 non-null    float64\n",
      " 14  RGDP Growth                   175 non-null    float64\n",
      " 15  CPI                           524 non-null    float64\n",
      " 16  Inflation rate                15962 non-null  float64\n",
      " 17  PPI                           115 non-null    float64\n",
      " 18  PPI rate                      3484 non-null   float64\n",
      " 19  Government Debt               162 non-null    float64\n",
      " 20  Government Debt to GDP        162 non-null    float64\n",
      " 21  US Dollar Index               4330 non-null   float64\n",
      " 22  3m5y                          10401 non-null  float64\n",
      " 23  3m10y                         10401 non-null  float64\n",
      " 24  2y10y                         11711 non-null  float64\n",
      " 25  2y20y                         10022 non-null  float64\n",
      " 26  5y10y                         15303 non-null  float64\n",
      " 27  10y30y                        11533 non-null  float64\n",
      " 28  10yTrea30yFRM                 2657 non-null   float64\n",
      "dtypes: float64(29)\n",
      "memory usage: 3.7 MB\n"
     ]
    }
   ],
   "source": [
    "indicators_df.info()"
   ]
  },
  {
   "cell_type": "code",
   "execution_count": 33,
   "metadata": {},
   "outputs": [
    {
     "name": "stdout",
     "output_type": "stream",
     "text": [
      "<class 'pandas.core.frame.DataFrame'>\n",
      "DatetimeIndex: 6286 entries, 1998-04-20 00:00:00-04:00 to 2023-04-11 00:00:00-04:00\n",
      "Data columns (total 13 columns):\n",
      " #   Column  Non-Null Count  Dtype  \n",
      "---  ------  --------------  -----  \n",
      " 0   DIA     6286 non-null   float64\n",
      " 1   IYR     5739 non-null   float64\n",
      " 2   SPY     6286 non-null   float64\n",
      " 3   XLB     6114 non-null   float64\n",
      " 4   XLE     6114 non-null   float64\n",
      " 5   XLF     6114 non-null   float64\n",
      " 6   XLI     6114 non-null   float64\n",
      " 7   XLK     6114 non-null   float64\n",
      " 8   XLP     6114 non-null   float64\n",
      " 9   XLU     6114 non-null   float64\n",
      " 10  XLV     6114 non-null   float64\n",
      " 11  XLY     6114 non-null   float64\n",
      " 12  ^IXIC   6286 non-null   float64\n",
      "dtypes: float64(13)\n",
      "memory usage: 687.5 KB\n"
     ]
    }
   ],
   "source": [
    "market_hist.info()"
   ]
  }
 ],
 "metadata": {
  "kernelspec": {
   "display_name": "Python 3",
   "language": "python",
   "name": "python3"
  },
  "language_info": {
   "codemirror_mode": {
    "name": "ipython",
    "version": 3
   },
   "file_extension": ".py",
   "mimetype": "text/x-python",
   "name": "python",
   "nbconvert_exporter": "python",
   "pygments_lexer": "ipython3",
   "version": "3.7.4"
  },
  "orig_nbformat": 4
 },
 "nbformat": 4,
 "nbformat_minor": 2
}
